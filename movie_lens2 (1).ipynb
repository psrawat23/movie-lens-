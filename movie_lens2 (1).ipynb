{
  "nbformat": 4,
  "nbformat_minor": 0,
  "metadata": {
    "colab": {
      "name": "movie_lens2.ipynb",
      "provenance": [],
      "collapsed_sections": [],
      "toc_visible": true
    },
    "kernelspec": {
      "name": "python3",
      "display_name": "Python 3"
    },
    "language_info": {
      "name": "python"
    }
  },
  "cells": [
    {
      "cell_type": "code",
      "metadata": {
        "id": "x3XbhwNa7xjg"
      },
      "source": [
        "# Importing all the required libraries\n",
        "import pandas as pd\n",
        "import numpy as np\n",
        "import matplotlib.pyplot as plt\n",
        "from matplotlib import style"
      ],
      "execution_count": 34,
      "outputs": []
    },
    {
      "cell_type": "code",
      "metadata": {
        "id": "N6ds_Hns8RaB"
      },
      "source": [
        "# Importing the dataset created previously by mergin Rating, Tag, User files\n",
        "user_rating=pd.read_csv(\"movie_integrate.csv\") # File containing data of each user along with rating and movies he/she reviewed\n",
        "movie_rating=pd.read_csv(\"movie_ratings.csv\") # File containing movie details along with users and rating who reviewed that perticular movie \n"
      ],
      "execution_count": 35,
      "outputs": []
    },
    {
      "cell_type": "code",
      "metadata": {
        "id": "4fc5hlVdTBo4",
        "colab": {
          "base_uri": "https://localhost:8080/"
        },
        "outputId": "a646ea6e-42ef-491a-c348-d34bb1429d1d"
      },
      "source": [
        "#Dataype of user_rating \n",
        "user_rating.dtypes"
      ],
      "execution_count": 36,
      "outputs": [
        {
          "output_type": "execute_result",
          "data": {
            "text/plain": [
              "Unnamed: 0     int64\n",
              "userId         int64\n",
              "Age            int64\n",
              "Sex           object\n",
              "occupation    object\n",
              "Zip           object\n",
              "Movie_id      object\n",
              "Ratings       object\n",
              "dtype: object"
            ]
          },
          "metadata": {
            "tags": []
          },
          "execution_count": 36
        }
      ]
    },
    {
      "cell_type": "code",
      "metadata": {
        "id": "ilFy-rwT8ZJU"
      },
      "source": [
        "#Some Empty data from previous file removing the empty data\n",
        "user_rating=user_rating.iloc[:610]"
      ],
      "execution_count": 37,
      "outputs": []
    },
    {
      "cell_type": "code",
      "metadata": {
        "id": "zxm-zt7fAenA",
        "colab": {
          "base_uri": "https://localhost:8080/",
          "height": 255
        },
        "outputId": "63bd9c5e-5467-40ed-da82-6341d20db8f2"
      },
      "source": [
        "# User Dataframe overview.In this assignment we will only work with user_rating table \n",
        "user_rating.head()"
      ],
      "execution_count": 38,
      "outputs": [
        {
          "output_type": "execute_result",
          "data": {
            "text/html": [
              "<div>\n",
              "<style scoped>\n",
              "    .dataframe tbody tr th:only-of-type {\n",
              "        vertical-align: middle;\n",
              "    }\n",
              "\n",
              "    .dataframe tbody tr th {\n",
              "        vertical-align: top;\n",
              "    }\n",
              "\n",
              "    .dataframe thead th {\n",
              "        text-align: right;\n",
              "    }\n",
              "</style>\n",
              "<table border=\"1\" class=\"dataframe\">\n",
              "  <thead>\n",
              "    <tr style=\"text-align: right;\">\n",
              "      <th></th>\n",
              "      <th>Unnamed: 0</th>\n",
              "      <th>userId</th>\n",
              "      <th>Age</th>\n",
              "      <th>Sex</th>\n",
              "      <th>occupation</th>\n",
              "      <th>Zip</th>\n",
              "      <th>Movie_id</th>\n",
              "      <th>Ratings</th>\n",
              "    </tr>\n",
              "  </thead>\n",
              "  <tbody>\n",
              "    <tr>\n",
              "      <th>0</th>\n",
              "      <td>0</td>\n",
              "      <td>1</td>\n",
              "      <td>24</td>\n",
              "      <td>M</td>\n",
              "      <td>technician</td>\n",
              "      <td>85711</td>\n",
              "      <td>[   1    3    6   47   50   70  101  110  151 ...</td>\n",
              "      <td>[4. 4. 4. 5. 5. 3. 5. 4. 5. 5. 5. 5. 3. 5. 4. ...</td>\n",
              "    </tr>\n",
              "    <tr>\n",
              "      <th>1</th>\n",
              "      <td>1</td>\n",
              "      <td>2</td>\n",
              "      <td>53</td>\n",
              "      <td>F</td>\n",
              "      <td>other</td>\n",
              "      <td>94043</td>\n",
              "      <td>[   318    333   1704   3578   6874   8798  46...</td>\n",
              "      <td>[3.  4.  4.5 4.  4.  3.5 4.  4.  4.5 5.  4.5 3...</td>\n",
              "    </tr>\n",
              "    <tr>\n",
              "      <th>2</th>\n",
              "      <td>2</td>\n",
              "      <td>3</td>\n",
              "      <td>23</td>\n",
              "      <td>M</td>\n",
              "      <td>writer</td>\n",
              "      <td>32067</td>\n",
              "      <td>[   31   527   647   688   720   849   914  10...</td>\n",
              "      <td>[0.5 0.5 0.5 0.5 0.5 5.  0.5 0.5 0.5 0.5 0.5 3...</td>\n",
              "    </tr>\n",
              "    <tr>\n",
              "      <th>3</th>\n",
              "      <td>3</td>\n",
              "      <td>4</td>\n",
              "      <td>24</td>\n",
              "      <td>M</td>\n",
              "      <td>technician</td>\n",
              "      <td>43537</td>\n",
              "      <td>[  21   32   45   47   52   58  106  125  126 ...</td>\n",
              "      <td>[3. 2. 3. 2. 3. 3. 4. 5. 1. 5. 3. 5. 2. 5. 1. ...</td>\n",
              "    </tr>\n",
              "    <tr>\n",
              "      <th>4</th>\n",
              "      <td>4</td>\n",
              "      <td>5</td>\n",
              "      <td>33</td>\n",
              "      <td>F</td>\n",
              "      <td>other</td>\n",
              "      <td>15213</td>\n",
              "      <td>[  1  21  34  36  39  50  58 110 150 153 232 2...</td>\n",
              "      <td>[4. 4. 4. 4. 3. 4. 5. 4. 3. 3. 4. 5. 3. 4. 3. ...</td>\n",
              "    </tr>\n",
              "  </tbody>\n",
              "</table>\n",
              "</div>"
            ],
            "text/plain": [
              "   Unnamed: 0  ...                                            Ratings\n",
              "0           0  ...  [4. 4. 4. 5. 5. 3. 5. 4. 5. 5. 5. 5. 3. 5. 4. ...\n",
              "1           1  ...  [3.  4.  4.5 4.  4.  3.5 4.  4.  4.5 5.  4.5 3...\n",
              "2           2  ...  [0.5 0.5 0.5 0.5 0.5 5.  0.5 0.5 0.5 0.5 0.5 3...\n",
              "3           3  ...  [3. 2. 3. 2. 3. 3. 4. 5. 1. 5. 3. 5. 2. 5. 1. ...\n",
              "4           4  ...  [4. 4. 4. 4. 3. 4. 5. 4. 3. 3. 4. 5. 3. 4. 3. ...\n",
              "\n",
              "[5 rows x 8 columns]"
            ]
          },
          "metadata": {
            "tags": []
          },
          "execution_count": 38
        }
      ]
    },
    {
      "cell_type": "code",
      "metadata": {
        "id": "olFZXOGTAHn5",
        "colab": {
          "base_uri": "https://localhost:8080/",
          "height": 663
        },
        "outputId": "3f76f55d-dfc4-4782-c442-98f9a8addeeb"
      },
      "source": [
        "# Movie rating dataframe overview\n",
        "movie_rating.head()"
      ],
      "execution_count": 39,
      "outputs": [
        {
          "output_type": "execute_result",
          "data": {
            "text/html": [
              "<div>\n",
              "<style scoped>\n",
              "    .dataframe tbody tr th:only-of-type {\n",
              "        vertical-align: middle;\n",
              "    }\n",
              "\n",
              "    .dataframe tbody tr th {\n",
              "        vertical-align: top;\n",
              "    }\n",
              "\n",
              "    .dataframe thead th {\n",
              "        text-align: right;\n",
              "    }\n",
              "</style>\n",
              "<table border=\"1\" class=\"dataframe\">\n",
              "  <thead>\n",
              "    <tr style=\"text-align: right;\">\n",
              "      <th></th>\n",
              "      <th>Unnamed: 0</th>\n",
              "      <th>movieId</th>\n",
              "      <th>title</th>\n",
              "      <th>genres</th>\n",
              "      <th>tag</th>\n",
              "      <th>imdbId</th>\n",
              "      <th>tmdbId</th>\n",
              "      <th>Users</th>\n",
              "      <th>Ratings</th>\n",
              "    </tr>\n",
              "  </thead>\n",
              "  <tbody>\n",
              "    <tr>\n",
              "      <th>0</th>\n",
              "      <td>0</td>\n",
              "      <td>1</td>\n",
              "      <td>Toy Story (1995)</td>\n",
              "      <td>Adventure|Animation|Children|Comedy|Fantasy</td>\n",
              "      <td>['pixar' 'pixar' 'fun']</td>\n",
              "      <td>114709</td>\n",
              "      <td>862.0</td>\n",
              "      <td>[  1   5   7  15  17  18  19  21  27  31  32  ...</td>\n",
              "      <td>[4.  4.  4.5 2.5 4.5 3.5 4.  3.5 3.  5.  3.  3...</td>\n",
              "    </tr>\n",
              "    <tr>\n",
              "      <th>1</th>\n",
              "      <td>1</td>\n",
              "      <td>2</td>\n",
              "      <td>Jumanji (1995)</td>\n",
              "      <td>Adventure|Children|Fantasy</td>\n",
              "      <td>['fantasy' 'magic board game' 'Robin Williams'...</td>\n",
              "      <td>113497</td>\n",
              "      <td>8844.0</td>\n",
              "      <td>[  6   8  18  19  20  21  27  51  62  68  82  ...</td>\n",
              "      <td>[4.  4.  3.  3.  3.  3.5 4.  4.5 4.  2.5 3.  3...</td>\n",
              "    </tr>\n",
              "    <tr>\n",
              "      <th>2</th>\n",
              "      <td>2</td>\n",
              "      <td>3</td>\n",
              "      <td>Grumpier Old Men (1995)</td>\n",
              "      <td>Comedy|Romance</td>\n",
              "      <td>['moldy' 'old']</td>\n",
              "      <td>113228</td>\n",
              "      <td>15602.0</td>\n",
              "      <td>[  1   6  19  32  42  43  44  51  58  64  68  ...</td>\n",
              "      <td>[4.  5.  3.  3.  4.  5.  3.  4.  3.  3.5 2.  3...</td>\n",
              "    </tr>\n",
              "    <tr>\n",
              "      <th>3</th>\n",
              "      <td>3</td>\n",
              "      <td>4</td>\n",
              "      <td>Waiting to Exhale (1995)</td>\n",
              "      <td>Comedy|Drama|Romance</td>\n",
              "      <td>[]</td>\n",
              "      <td>114885</td>\n",
              "      <td>31357.0</td>\n",
              "      <td>[  6  14  84 162 262 411 600]</td>\n",
              "      <td>[3.  3.  3.  3.  1.  2.  1.5]</td>\n",
              "    </tr>\n",
              "    <tr>\n",
              "      <th>4</th>\n",
              "      <td>4</td>\n",
              "      <td>5</td>\n",
              "      <td>Father of the Bride Part II (1995)</td>\n",
              "      <td>Comedy</td>\n",
              "      <td>['pregnancy' 'remake']</td>\n",
              "      <td>113041</td>\n",
              "      <td>11862.0</td>\n",
              "      <td>[  6  31  43  45  58  66  68  84 103 107 111 1...</td>\n",
              "      <td>[5.  3.  5.  3.  4.  4.  2.  3.  4.  4.  3.5 3...</td>\n",
              "    </tr>\n",
              "  </tbody>\n",
              "</table>\n",
              "</div>"
            ],
            "text/plain": [
              "   Unnamed: 0  ...                                            Ratings\n",
              "0           0  ...  [4.  4.  4.5 2.5 4.5 3.5 4.  3.5 3.  5.  3.  3...\n",
              "1           1  ...  [4.  4.  3.  3.  3.  3.5 4.  4.5 4.  2.5 3.  3...\n",
              "2           2  ...  [4.  5.  3.  3.  4.  5.  3.  4.  3.  3.5 2.  3...\n",
              "3           3  ...                      [3.  3.  3.  3.  1.  2.  1.5]\n",
              "4           4  ...  [5.  3.  5.  3.  4.  4.  2.  3.  4.  4.  3.5 3...\n",
              "\n",
              "[5 rows x 9 columns]"
            ]
          },
          "metadata": {
            "tags": []
          },
          "execution_count": 39
        }
      ]
    },
    {
      "cell_type": "code",
      "metadata": {
        "id": "QPVtopfXYygW"
      },
      "source": [
        ""
      ],
      "execution_count": 39,
      "outputs": []
    },
    {
      "cell_type": "markdown",
      "metadata": {
        "id": "C2Ri2SYTYzYU"
      },
      "source": [
        "## creating two separate Dataframe(male_user,female_user) to analize the male and female rating differece\n"
      ]
    },
    {
      "cell_type": "code",
      "metadata": {
        "id": "UcgedizTRJVo"
      },
      "source": [
        "#Creating different dataframe for male users \n",
        "male_user=user_rating[user_rating[\"Sex\"]=='M']"
      ],
      "execution_count": 40,
      "outputs": []
    },
    {
      "cell_type": "code",
      "metadata": {
        "id": "ul1JA7IhRQ46"
      },
      "source": [
        "#Separating female users data from main data\n",
        "female_user=user_rating[user_rating[\"Sex\"]=='F']"
      ],
      "execution_count": 41,
      "outputs": []
    },
    {
      "cell_type": "code",
      "metadata": {
        "id": "qX4hVoRgRe7p",
        "colab": {
          "base_uri": "https://localhost:8080/"
        },
        "outputId": "1d37e398-1bc2-4e7f-99fb-19b1180bf72b"
      },
      "source": [
        "#There are less Female review in compare to male\n",
        "print(len(female_user))\n",
        "print(len(male_user))"
      ],
      "execution_count": 42,
      "outputs": [
        {
          "output_type": "stream",
          "text": [
            "170\n",
            "440\n"
          ],
          "name": "stdout"
        }
      ]
    },
    {
      "cell_type": "code",
      "metadata": {
        "id": "UBPo0y4TRv0o",
        "colab": {
          "base_uri": "https://localhost:8080/",
          "height": 204
        },
        "outputId": "60b2ab13-3c57-46ca-a10b-55cad0d32f61"
      },
      "source": [
        "#Male user DataFrame overview\n",
        "male_user.head()"
      ],
      "execution_count": 43,
      "outputs": [
        {
          "output_type": "execute_result",
          "data": {
            "text/html": [
              "<div>\n",
              "<style scoped>\n",
              "    .dataframe tbody tr th:only-of-type {\n",
              "        vertical-align: middle;\n",
              "    }\n",
              "\n",
              "    .dataframe tbody tr th {\n",
              "        vertical-align: top;\n",
              "    }\n",
              "\n",
              "    .dataframe thead th {\n",
              "        text-align: right;\n",
              "    }\n",
              "</style>\n",
              "<table border=\"1\" class=\"dataframe\">\n",
              "  <thead>\n",
              "    <tr style=\"text-align: right;\">\n",
              "      <th></th>\n",
              "      <th>Unnamed: 0</th>\n",
              "      <th>userId</th>\n",
              "      <th>Age</th>\n",
              "      <th>Sex</th>\n",
              "      <th>occupation</th>\n",
              "      <th>Zip</th>\n",
              "      <th>Movie_id</th>\n",
              "      <th>Ratings</th>\n",
              "    </tr>\n",
              "  </thead>\n",
              "  <tbody>\n",
              "    <tr>\n",
              "      <th>0</th>\n",
              "      <td>0</td>\n",
              "      <td>1</td>\n",
              "      <td>24</td>\n",
              "      <td>M</td>\n",
              "      <td>technician</td>\n",
              "      <td>85711</td>\n",
              "      <td>[   1    3    6   47   50   70  101  110  151 ...</td>\n",
              "      <td>[4. 4. 4. 5. 5. 3. 5. 4. 5. 5. 5. 5. 3. 5. 4. ...</td>\n",
              "    </tr>\n",
              "    <tr>\n",
              "      <th>2</th>\n",
              "      <td>2</td>\n",
              "      <td>3</td>\n",
              "      <td>23</td>\n",
              "      <td>M</td>\n",
              "      <td>writer</td>\n",
              "      <td>32067</td>\n",
              "      <td>[   31   527   647   688   720   849   914  10...</td>\n",
              "      <td>[0.5 0.5 0.5 0.5 0.5 5.  0.5 0.5 0.5 0.5 0.5 3...</td>\n",
              "    </tr>\n",
              "    <tr>\n",
              "      <th>3</th>\n",
              "      <td>3</td>\n",
              "      <td>4</td>\n",
              "      <td>24</td>\n",
              "      <td>M</td>\n",
              "      <td>technician</td>\n",
              "      <td>43537</td>\n",
              "      <td>[  21   32   45   47   52   58  106  125  126 ...</td>\n",
              "      <td>[3. 2. 3. 2. 3. 3. 4. 5. 1. 5. 3. 5. 2. 5. 1. ...</td>\n",
              "    </tr>\n",
              "    <tr>\n",
              "      <th>5</th>\n",
              "      <td>5</td>\n",
              "      <td>6</td>\n",
              "      <td>42</td>\n",
              "      <td>M</td>\n",
              "      <td>executive</td>\n",
              "      <td>98101</td>\n",
              "      <td>[   2    3    4    5    6    7    8   10   11 ...</td>\n",
              "      <td>[4. 5. 3. 5. 4. 4. 3. 3. 4. 3. 4. 4. 4. 2. 2. ...</td>\n",
              "    </tr>\n",
              "    <tr>\n",
              "      <th>6</th>\n",
              "      <td>6</td>\n",
              "      <td>7</td>\n",
              "      <td>57</td>\n",
              "      <td>M</td>\n",
              "      <td>administrator</td>\n",
              "      <td>91344</td>\n",
              "      <td>[    1    50    58   150   165   260   356   3...</td>\n",
              "      <td>[4.5 4.5 3.  4.5 4.  5.  5.  3.  5.  5.  2.  3...</td>\n",
              "    </tr>\n",
              "  </tbody>\n",
              "</table>\n",
              "</div>"
            ],
            "text/plain": [
              "   Unnamed: 0  ...                                            Ratings\n",
              "0           0  ...  [4. 4. 4. 5. 5. 3. 5. 4. 5. 5. 5. 5. 3. 5. 4. ...\n",
              "2           2  ...  [0.5 0.5 0.5 0.5 0.5 5.  0.5 0.5 0.5 0.5 0.5 3...\n",
              "3           3  ...  [3. 2. 3. 2. 3. 3. 4. 5. 1. 5. 3. 5. 2. 5. 1. ...\n",
              "5           5  ...  [4. 5. 3. 5. 4. 4. 3. 3. 4. 3. 4. 4. 4. 2. 2. ...\n",
              "6           6  ...  [4.5 4.5 3.  4.5 4.  5.  5.  3.  5.  5.  2.  3...\n",
              "\n",
              "[5 rows x 8 columns]"
            ]
          },
          "metadata": {
            "tags": []
          },
          "execution_count": 43
        }
      ]
    },
    {
      "cell_type": "code",
      "metadata": {
        "id": "VzoxLOVRtidi",
        "colab": {
          "base_uri": "https://localhost:8080/",
          "height": 221
        },
        "outputId": "c2e43a9e-cb02-49fe-fc33-e1ccbcbe7a71"
      },
      "source": [
        "#Female user Dataframe overview\n",
        "female_user.head()"
      ],
      "execution_count": 44,
      "outputs": [
        {
          "output_type": "execute_result",
          "data": {
            "text/html": [
              "<div>\n",
              "<style scoped>\n",
              "    .dataframe tbody tr th:only-of-type {\n",
              "        vertical-align: middle;\n",
              "    }\n",
              "\n",
              "    .dataframe tbody tr th {\n",
              "        vertical-align: top;\n",
              "    }\n",
              "\n",
              "    .dataframe thead th {\n",
              "        text-align: right;\n",
              "    }\n",
              "</style>\n",
              "<table border=\"1\" class=\"dataframe\">\n",
              "  <thead>\n",
              "    <tr style=\"text-align: right;\">\n",
              "      <th></th>\n",
              "      <th>Unnamed: 0</th>\n",
              "      <th>userId</th>\n",
              "      <th>Age</th>\n",
              "      <th>Sex</th>\n",
              "      <th>occupation</th>\n",
              "      <th>Zip</th>\n",
              "      <th>Movie_id</th>\n",
              "      <th>Ratings</th>\n",
              "    </tr>\n",
              "  </thead>\n",
              "  <tbody>\n",
              "    <tr>\n",
              "      <th>1</th>\n",
              "      <td>1</td>\n",
              "      <td>2</td>\n",
              "      <td>53</td>\n",
              "      <td>F</td>\n",
              "      <td>other</td>\n",
              "      <td>94043</td>\n",
              "      <td>[   318    333   1704   3578   6874   8798  46...</td>\n",
              "      <td>[3.  4.  4.5 4.  4.  3.5 4.  4.  4.5 5.  4.5 3...</td>\n",
              "    </tr>\n",
              "    <tr>\n",
              "      <th>4</th>\n",
              "      <td>4</td>\n",
              "      <td>5</td>\n",
              "      <td>33</td>\n",
              "      <td>F</td>\n",
              "      <td>other</td>\n",
              "      <td>15213</td>\n",
              "      <td>[  1  21  34  36  39  50  58 110 150 153 232 2...</td>\n",
              "      <td>[4. 4. 4. 4. 3. 4. 5. 4. 3. 3. 4. 5. 3. 4. 3. ...</td>\n",
              "    </tr>\n",
              "    <tr>\n",
              "      <th>10</th>\n",
              "      <td>10</td>\n",
              "      <td>11</td>\n",
              "      <td>39</td>\n",
              "      <td>F</td>\n",
              "      <td>other</td>\n",
              "      <td>30329</td>\n",
              "      <td>[   6   10   36   44   95  110  150  153  165 ...</td>\n",
              "      <td>[5. 3. 4. 2. 3. 5. 5. 3. 3. 4. 3. 4. 4. 5. 5. ...</td>\n",
              "    </tr>\n",
              "    <tr>\n",
              "      <th>11</th>\n",
              "      <td>11</td>\n",
              "      <td>12</td>\n",
              "      <td>28</td>\n",
              "      <td>F</td>\n",
              "      <td>other</td>\n",
              "      <td>06405</td>\n",
              "      <td>[   39   168   222   256   261   277   357   5...</td>\n",
              "      <td>[4.  5.  5.  5.  4.5 3.  3.5 3.5 4.  5.  4.5 3...</td>\n",
              "    </tr>\n",
              "    <tr>\n",
              "      <th>14</th>\n",
              "      <td>14</td>\n",
              "      <td>15</td>\n",
              "      <td>49</td>\n",
              "      <td>F</td>\n",
              "      <td>educator</td>\n",
              "      <td>97301</td>\n",
              "      <td>[     1     44     47    158    172    256    ...</td>\n",
              "      <td>[2.5 1.  3.5 1.  1.  3.  5.  3.  4.  5.  1.  5...</td>\n",
              "    </tr>\n",
              "  </tbody>\n",
              "</table>\n",
              "</div>"
            ],
            "text/plain": [
              "    Unnamed: 0  ...                                            Ratings\n",
              "1            1  ...  [3.  4.  4.5 4.  4.  3.5 4.  4.  4.5 5.  4.5 3...\n",
              "4            4  ...  [4. 4. 4. 4. 3. 4. 5. 4. 3. 3. 4. 5. 3. 4. 3. ...\n",
              "10          10  ...  [5. 3. 4. 2. 3. 5. 5. 3. 3. 4. 3. 4. 4. 5. 5. ...\n",
              "11          11  ...  [4.  5.  5.  5.  4.5 3.  3.5 3.5 4.  5.  4.5 3...\n",
              "14          14  ...  [2.5 1.  3.5 1.  1.  3.  5.  3.  4.  5.  1.  5...\n",
              "\n",
              "[5 rows x 8 columns]"
            ]
          },
          "metadata": {
            "tags": []
          },
          "execution_count": 44
        }
      ]
    },
    {
      "cell_type": "code",
      "metadata": {
        "id": "Na9gTI_YQUvp"
      },
      "source": [
        "#Getting all the ratings from Female Rating Columns\n",
        "female=female_user[\"Ratings\"].values\n",
        "female=str(female)\n",
        "#Rating data is Object datatypes so it containing some noice e.g. \\n,',[,],..etc \n",
        "#Removing the noice  \n",
        "female=female.replace(\"\\n \",\" \")\n",
        "female=female.replace(\"\\\\n\",\" \")\n",
        "female=female.replace(\"'\",\"\")\n",
        "female=female.replace(\"[\",\"\")\n",
        "female=female.replace(\"]\",\"\")\n",
        "female=female.replace(\"  \",\" \")\n",
        "female=female.replace(\"...\",\"\")\n",
        "\n",
        "#Spliting the data and making a new female List to store all ratings\n",
        "female=str(female).split(\" \")\n",
        "while(\"\" in female):\n",
        "    female.remove(\"\")"
      ],
      "execution_count": 45,
      "outputs": []
    },
    {
      "cell_type": "code",
      "metadata": {
        "id": "Spb-8-L75QSM"
      },
      "source": [
        "#Converting Female List to numpy array\n",
        "female=np.array(female)\n",
        "#Storing the unique value and there frequency in the Array \n",
        "female_unique=np.unique(female,return_counts=True)\n",
        "#Sorting the female rating data for ease of plotting\n",
        "female=np.sort(female)"
      ],
      "execution_count": 47,
      "outputs": []
    },
    {
      "cell_type": "code",
      "metadata": {
        "id": "9ltN8PiRzJzk"
      },
      "source": [
        "#Getting all the ratings from Female Rating Columns\n",
        "male=male_user[\"Ratings\"].values\n",
        "male=str(male)\n",
        "#Rating data is Object datatypes so it containing some noice e.g. \\n,',[,],..etc \n",
        "male=male.replace(\"\\n \",\" \")\n",
        "male=male.replace(\"\\\\n\",\" \")\n",
        "male=male.replace(\"'\",\"\")\n",
        "male=male.replace(\"[\",\"\")\n",
        "male=male.replace(\"]\",\"\")\n",
        "male=male.replace(\"  \",\" \")\n",
        "male=male.replace(\"...\",\"\")\n",
        "#Spliting the data and making a new  Male List to store all ratings\n",
        "male=str(male).split(\" \")\n",
        "while(\"\" in male):\n",
        "    male.remove(\"\")"
      ],
      "execution_count": 48,
      "outputs": []
    },
    {
      "cell_type": "code",
      "metadata": {
        "id": "jbhNWdn4tHwn"
      },
      "source": [
        "#Converting Female List to numpy array\n",
        "male=np.array(male)\n",
        "#Storing the unique value and there frequency in the Array \n",
        "male_unique=np.unique(male,return_counts=True)\n",
        "#Sorting the female rating data for ease of plotting\n",
        "male=np.sort(male)"
      ],
      "execution_count": 49,
      "outputs": []
    },
    {
      "cell_type": "code",
      "metadata": {
        "id": "MWh_RHxp-HqN",
        "colab": {
          "base_uri": "https://localhost:8080/",
          "height": 299
        },
        "outputId": "1bd0d8e3-71ea-4ccd-c22c-272dc28a882b"
      },
      "source": [
        "#Plotting the Count of rating given by Female users for movie\n",
        "style.use(\"ggplot\")\n",
        "plt.hist(female,color='b')\n",
        "plt.ylabel(\"Rating Counts\")\n",
        "plt.xlabel(\"Rating\")\n",
        "plt.title(\"Female rating counts\")\n",
        "plt.show()"
      ],
      "execution_count": 50,
      "outputs": [
        {
          "output_type": "display_data",
          "data": {
            "image/png": "[encoded data removed]",
            "text/plain": [
              "<Figure size 432x288 with 1 Axes>"
            ]
          },
          "metadata": {
            "tags": []
          }
        }
      ]
    },
    {
      "cell_type": "code",
      "metadata": {
        "id": "oqpQPmGbIxQk",
        "colab": {
          "base_uri": "https://localhost:8080/",
          "height": 299
        },
        "outputId": "aed13b9e-0b2c-4188-e9cc-ec7c3f67b529"
      },
      "source": [
        "#Plotting the Count of rating given by Male users for movie\n",
        "style.use(\"ggplot\")\n",
        "plt.hist(male,bins=20,color='g')\n",
        "plt.xlabel(\"Rating\")\n",
        "plt.ylabel(\"Count of Rating\")\n",
        "plt.title(\"Male rating count\")\n",
        "plt.show()"
      ],
      "execution_count": 51,
      "outputs": [
        {
          "output_type": "display_data",
          "data": {
            "image/png": "[encoded data removed]",
            "text/plain": [
              "<Figure size 432x288 with 1 Axes>"
            ]
          },
          "metadata": {
            "tags": []
          }
        }
      ]
    },
    {
      "cell_type": "markdown",
      "metadata": {
        "id": "BSYkbWKJJxyZ"
      },
      "source": [
        "### By analysing both the charts There is Difference in the Female and Male rating counts because male count is high\n",
        "### We will plot Rating count according to the percentage now to understand the difference "
      ]
    },
    {
      "cell_type": "code",
      "metadata": {
        "id": "jVFFubFnBEds"
      },
      "source": [
        "#Sum of all the no. of ratings givin by male users\n",
        "total_male_rating=sum(male_unique[1])\n",
        "#Calculating the male percentage for each rating\n",
        "male_percentage=[(float(i)/float(total_male_rating))*100 for i in male_unique[1]]\n",
        "#converting male percentage list into numpy array\n",
        "male_percentage=np.array(male_percentage)\n",
        "male_percentage = male_percentage.astype(float)"
      ],
      "execution_count": 52,
      "outputs": []
    },
    {
      "cell_type": "code",
      "metadata": {
        "id": "N7z33SL1BazI"
      },
      "source": [
        "#Sum of all the no. of ratings givin by male users\n",
        "total_female_rating=sum(female_unique[1])\n",
        "#Sum of all the no. of ratings givin by male users\n",
        "female_percentage=[(float(i)/float(total_female_rating))*100 for i in female_unique[1]]\n",
        "#converting male percentage list into numpy array\n",
        "female_percentage=np.array(female_percentage)\n",
        "female_percentage = female_percentage.astype(float)"
      ],
      "execution_count": 53,
      "outputs": []
    },
    {
      "cell_type": "code",
      "metadata": {
        "id": "FcEWo1OCLJA-",
        "colab": {
          "base_uri": "https://localhost:8080/",
          "height": 514
        },
        "outputId": "8603ea54-6216-4df0-939c-2f6547b092e4"
      },
      "source": [
        "#Plotting bar chart to visualize Male and Female Rating percentage \n",
        "\n",
        "X = female_unique[0].astype(float)\n",
        "fig = plt.figure()\n",
        "ax = fig.add_axes([0,0,1.5,1.5])\n",
        "ax.bar(X,female_percentage , color = 'b', width = 0.1)\n",
        "ax.bar(X + 0.1, male_percentage, color = 'g', width = 0.1)\n",
        "ax.set_ylabel('Percentage of Rating')\n",
        "ax.set_xlabel('Ratings')\n",
        "ax.set_title('Rating Percentage of Male and Female')\n",
        "ax.set_xticks(X)\n",
        "ax.set_yticks(np.arange(0, 40, 1))\n",
        "ax.legend(labels=['Female', 'Male'])\n",
        "plt.show()"
      ],
      "execution_count": 55,
      "outputs": [
        {
          "output_type": "display_data",
          "data": {
            "image/png": "[encoded data removed]",
            "text/plain": [
              "<Figure size 432x288 with 1 Axes>"
            ]
          },
          "metadata": {
            "tags": []
          }
        }
      ]
    },
    {
      "cell_type": "markdown",
      "metadata": {
        "id": "De0wIxh6LJrF"
      },
      "source": [
        "### We can clearly see that difference there is no big difference between male and Female on the rating ratio "
      ]
    }
  ]
}